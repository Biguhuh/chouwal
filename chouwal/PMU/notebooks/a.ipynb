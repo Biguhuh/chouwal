{
 "cells": [
  {
   "cell_type": "markdown",
   "metadata": {},
   "source": [
    "# Download from bucket"
   ]
  },
  {
   "cell_type": "code",
   "execution_count": 2,
   "metadata": {},
   "outputs": [
    {
     "ename": "Forbidden",
     "evalue": "403 GET https://storage.googleapis.com/download/storage/v1/b/chouwal/o/..%2Fdata%2F2022_oct_chouwal.csv?alt=media: bastien-giudicelli@woven-solution-365114.iam.gserviceaccount.com does not have storage.objects.get access to the Google Cloud Storage object. Permission &#39;storage.objects.get&#39; denied on resource (or it may not exist).: ('Request failed with status code', 403, 'Expected one of', <HTTPStatus.OK: 200>, <HTTPStatus.PARTIAL_CONTENT: 206>)",
     "output_type": "error",
     "traceback": [
      "\u001b[0;31m---------------------------------------------------------------------------\u001b[0m",
      "\u001b[0;31mInvalidResponse\u001b[0m                           Traceback (most recent call last)",
      "File \u001b[0;32m~/.pyenv/versions/lewagon/lib/python3.10/site-packages/google/cloud/storage/client.py:1151\u001b[0m, in \u001b[0;36mClient.download_blob_to_file\u001b[0;34m(self, blob_or_uri, file_obj, start, end, raw_download, if_etag_match, if_etag_not_match, if_generation_match, if_generation_not_match, if_metageneration_match, if_metageneration_not_match, timeout, checksum, retry)\u001b[0m\n\u001b[1;32m   1150\u001b[0m \u001b[39mtry\u001b[39;00m:\n\u001b[0;32m-> 1151\u001b[0m     blob_or_uri\u001b[39m.\u001b[39;49m_do_download(\n\u001b[1;32m   1152\u001b[0m         transport,\n\u001b[1;32m   1153\u001b[0m         file_obj,\n\u001b[1;32m   1154\u001b[0m         download_url,\n\u001b[1;32m   1155\u001b[0m         headers,\n\u001b[1;32m   1156\u001b[0m         start,\n\u001b[1;32m   1157\u001b[0m         end,\n\u001b[1;32m   1158\u001b[0m         raw_download,\n\u001b[1;32m   1159\u001b[0m         timeout\u001b[39m=\u001b[39;49mtimeout,\n\u001b[1;32m   1160\u001b[0m         checksum\u001b[39m=\u001b[39;49mchecksum,\n\u001b[1;32m   1161\u001b[0m         retry\u001b[39m=\u001b[39;49mretry,\n\u001b[1;32m   1162\u001b[0m     )\n\u001b[1;32m   1163\u001b[0m \u001b[39mexcept\u001b[39;00m resumable_media\u001b[39m.\u001b[39mInvalidResponse \u001b[39mas\u001b[39;00m exc:\n",
      "File \u001b[0;32m~/.pyenv/versions/lewagon/lib/python3.10/site-packages/google/cloud/storage/blob.py:989\u001b[0m, in \u001b[0;36mBlob._do_download\u001b[0;34m(self, transport, file_obj, download_url, headers, start, end, raw_download, timeout, checksum, retry)\u001b[0m\n\u001b[1;32m    988\u001b[0m download\u001b[39m.\u001b[39m_retry_strategy \u001b[39m=\u001b[39m retry_strategy\n\u001b[0;32m--> 989\u001b[0m response \u001b[39m=\u001b[39m download\u001b[39m.\u001b[39;49mconsume(transport, timeout\u001b[39m=\u001b[39;49mtimeout)\n\u001b[1;32m    990\u001b[0m \u001b[39mself\u001b[39m\u001b[39m.\u001b[39m_extract_headers_from_download(response)\n",
      "File \u001b[0;32m~/.pyenv/versions/lewagon/lib/python3.10/site-packages/google/resumable_media/requests/download.py:232\u001b[0m, in \u001b[0;36mDownload.consume\u001b[0;34m(self, transport, timeout)\u001b[0m\n\u001b[1;32m    230\u001b[0m     \u001b[39mreturn\u001b[39;00m result\n\u001b[0;32m--> 232\u001b[0m \u001b[39mreturn\u001b[39;00m _request_helpers\u001b[39m.\u001b[39;49mwait_and_retry(\n\u001b[1;32m    233\u001b[0m     retriable_request, \u001b[39mself\u001b[39;49m\u001b[39m.\u001b[39;49m_get_status_code, \u001b[39mself\u001b[39;49m\u001b[39m.\u001b[39;49m_retry_strategy\n\u001b[1;32m    234\u001b[0m )\n",
      "File \u001b[0;32m~/.pyenv/versions/lewagon/lib/python3.10/site-packages/google/resumable_media/requests/_request_helpers.py:148\u001b[0m, in \u001b[0;36mwait_and_retry\u001b[0;34m(func, get_status_code, retry_strategy)\u001b[0m\n\u001b[1;32m    147\u001b[0m \u001b[39mtry\u001b[39;00m:\n\u001b[0;32m--> 148\u001b[0m     response \u001b[39m=\u001b[39m func()\n\u001b[1;32m    149\u001b[0m \u001b[39mexcept\u001b[39;00m _CONNECTION_ERROR_CLASSES \u001b[39mas\u001b[39;00m e:\n",
      "File \u001b[0;32m~/.pyenv/versions/lewagon/lib/python3.10/site-packages/google/resumable_media/requests/download.py:214\u001b[0m, in \u001b[0;36mDownload.consume.<locals>.retriable_request\u001b[0;34m()\u001b[0m\n\u001b[1;32m    210\u001b[0m     \u001b[39mself\u001b[39m\u001b[39m.\u001b[39m_object_generation \u001b[39m=\u001b[39m _helpers\u001b[39m.\u001b[39m_parse_generation_header(\n\u001b[1;32m    211\u001b[0m         result, \u001b[39mself\u001b[39m\u001b[39m.\u001b[39m_get_headers\n\u001b[1;32m    212\u001b[0m     )\n\u001b[0;32m--> 214\u001b[0m \u001b[39mself\u001b[39;49m\u001b[39m.\u001b[39;49m_process_response(result)\n\u001b[1;32m    216\u001b[0m \u001b[39m# With decompressive transcoding, GCS serves back the whole file regardless of the range request,\u001b[39;00m\n\u001b[1;32m    217\u001b[0m \u001b[39m# thus we reset the stream position to the start of the stream.\u001b[39;00m\n\u001b[1;32m    218\u001b[0m \u001b[39m# See: https://cloud.google.com/storage/docs/transcoding#range\u001b[39;00m\n",
      "File \u001b[0;32m~/.pyenv/versions/lewagon/lib/python3.10/site-packages/google/resumable_media/_download.py:188\u001b[0m, in \u001b[0;36mDownload._process_response\u001b[0;34m(self, response)\u001b[0m\n\u001b[1;32m    187\u001b[0m \u001b[39mself\u001b[39m\u001b[39m.\u001b[39m_finished \u001b[39m=\u001b[39m \u001b[39mTrue\u001b[39;00m\n\u001b[0;32m--> 188\u001b[0m _helpers\u001b[39m.\u001b[39;49mrequire_status_code(\n\u001b[1;32m    189\u001b[0m     response, _ACCEPTABLE_STATUS_CODES, \u001b[39mself\u001b[39;49m\u001b[39m.\u001b[39;49m_get_status_code\n\u001b[1;32m    190\u001b[0m )\n",
      "File \u001b[0;32m~/.pyenv/versions/lewagon/lib/python3.10/site-packages/google/resumable_media/_helpers.py:108\u001b[0m, in \u001b[0;36mrequire_status_code\u001b[0;34m(response, status_codes, get_status_code, callback)\u001b[0m\n\u001b[1;32m    107\u001b[0m         callback()\n\u001b[0;32m--> 108\u001b[0m     \u001b[39mraise\u001b[39;00m common\u001b[39m.\u001b[39mInvalidResponse(\n\u001b[1;32m    109\u001b[0m         response,\n\u001b[1;32m    110\u001b[0m         \u001b[39m\"\u001b[39m\u001b[39mRequest failed with status code\u001b[39m\u001b[39m\"\u001b[39m,\n\u001b[1;32m    111\u001b[0m         status_code,\n\u001b[1;32m    112\u001b[0m         \u001b[39m\"\u001b[39m\u001b[39mExpected one of\u001b[39m\u001b[39m\"\u001b[39m,\n\u001b[1;32m    113\u001b[0m         \u001b[39m*\u001b[39mstatus_codes\n\u001b[1;32m    114\u001b[0m     )\n\u001b[1;32m    115\u001b[0m \u001b[39mreturn\u001b[39;00m status_code\n",
      "\u001b[0;31mInvalidResponse\u001b[0m: ('Request failed with status code', 403, 'Expected one of', <HTTPStatus.OK: 200>, <HTTPStatus.PARTIAL_CONTENT: 206>)",
      "\nDuring handling of the above exception, another exception occurred:\n",
      "\u001b[0;31mForbidden\u001b[0m                                 Traceback (most recent call last)",
      "Cell \u001b[0;32mIn [2], line 8\u001b[0m\n\u001b[1;32m      6\u001b[0m bucket \u001b[39m=\u001b[39m client\u001b[39m.\u001b[39mbucket(BUCKET_NAME)\n\u001b[1;32m      7\u001b[0m blob \u001b[39m=\u001b[39m bucket\u001b[39m.\u001b[39mblob(storage_filename)\n\u001b[0;32m----> 8\u001b[0m blob\u001b[39m.\u001b[39mdownload_to_filename(local_filename)\n",
      "File \u001b[0;32m~/.pyenv/versions/lewagon/lib/python3.10/site-packages/google/cloud/storage/blob.py:1270\u001b[0m, in \u001b[0;36mBlob.download_to_filename\u001b[0;34m(self, filename, client, start, end, raw_download, if_etag_match, if_etag_not_match, if_generation_match, if_generation_not_match, if_metageneration_match, if_metageneration_not_match, timeout, checksum, retry)\u001b[0m\n\u001b[1;32m   1268\u001b[0m \u001b[39mtry\u001b[39;00m:\n\u001b[1;32m   1269\u001b[0m     \u001b[39mwith\u001b[39;00m \u001b[39mopen\u001b[39m(filename, \u001b[39m\"\u001b[39m\u001b[39mwb\u001b[39m\u001b[39m\"\u001b[39m) \u001b[39mas\u001b[39;00m file_obj:\n\u001b[0;32m-> 1270\u001b[0m         client\u001b[39m.\u001b[39;49mdownload_blob_to_file(\n\u001b[1;32m   1271\u001b[0m             \u001b[39mself\u001b[39;49m,\n\u001b[1;32m   1272\u001b[0m             file_obj,\n\u001b[1;32m   1273\u001b[0m             start\u001b[39m=\u001b[39;49mstart,\n\u001b[1;32m   1274\u001b[0m             end\u001b[39m=\u001b[39;49mend,\n\u001b[1;32m   1275\u001b[0m             raw_download\u001b[39m=\u001b[39;49mraw_download,\n\u001b[1;32m   1276\u001b[0m             if_etag_match\u001b[39m=\u001b[39;49mif_etag_match,\n\u001b[1;32m   1277\u001b[0m             if_etag_not_match\u001b[39m=\u001b[39;49mif_etag_not_match,\n\u001b[1;32m   1278\u001b[0m             if_generation_match\u001b[39m=\u001b[39;49mif_generation_match,\n\u001b[1;32m   1279\u001b[0m             if_generation_not_match\u001b[39m=\u001b[39;49mif_generation_not_match,\n\u001b[1;32m   1280\u001b[0m             if_metageneration_match\u001b[39m=\u001b[39;49mif_metageneration_match,\n\u001b[1;32m   1281\u001b[0m             if_metageneration_not_match\u001b[39m=\u001b[39;49mif_metageneration_not_match,\n\u001b[1;32m   1282\u001b[0m             timeout\u001b[39m=\u001b[39;49mtimeout,\n\u001b[1;32m   1283\u001b[0m             checksum\u001b[39m=\u001b[39;49mchecksum,\n\u001b[1;32m   1284\u001b[0m             retry\u001b[39m=\u001b[39;49mretry,\n\u001b[1;32m   1285\u001b[0m         )\n\u001b[1;32m   1286\u001b[0m \u001b[39mexcept\u001b[39;00m resumable_media\u001b[39m.\u001b[39mDataCorruption:\n\u001b[1;32m   1287\u001b[0m     \u001b[39m# Delete the corrupt downloaded file.\u001b[39;00m\n\u001b[1;32m   1288\u001b[0m     os\u001b[39m.\u001b[39mremove(filename)\n",
      "File \u001b[0;32m~/.pyenv/versions/lewagon/lib/python3.10/site-packages/google/cloud/storage/client.py:1164\u001b[0m, in \u001b[0;36mClient.download_blob_to_file\u001b[0;34m(self, blob_or_uri, file_obj, start, end, raw_download, if_etag_match, if_etag_not_match, if_generation_match, if_generation_not_match, if_metageneration_match, if_metageneration_not_match, timeout, checksum, retry)\u001b[0m\n\u001b[1;32m   1151\u001b[0m     blob_or_uri\u001b[39m.\u001b[39m_do_download(\n\u001b[1;32m   1152\u001b[0m         transport,\n\u001b[1;32m   1153\u001b[0m         file_obj,\n\u001b[0;32m   (...)\u001b[0m\n\u001b[1;32m   1161\u001b[0m         retry\u001b[39m=\u001b[39mretry,\n\u001b[1;32m   1162\u001b[0m     )\n\u001b[1;32m   1163\u001b[0m \u001b[39mexcept\u001b[39;00m resumable_media\u001b[39m.\u001b[39mInvalidResponse \u001b[39mas\u001b[39;00m exc:\n\u001b[0;32m-> 1164\u001b[0m     _raise_from_invalid_response(exc)\n",
      "File \u001b[0;32m~/.pyenv/versions/lewagon/lib/python3.10/site-packages/google/cloud/storage/blob.py:4457\u001b[0m, in \u001b[0;36m_raise_from_invalid_response\u001b[0;34m(error)\u001b[0m\n\u001b[1;32m   4453\u001b[0m     error_message \u001b[39m=\u001b[39m \u001b[39mstr\u001b[39m(error)\n\u001b[1;32m   4455\u001b[0m message \u001b[39m=\u001b[39m \u001b[39mf\u001b[39m\u001b[39m\"\u001b[39m\u001b[39m{\u001b[39;00mresponse\u001b[39m.\u001b[39mrequest\u001b[39m.\u001b[39mmethod\u001b[39m}\u001b[39;00m\u001b[39m \u001b[39m\u001b[39m{\u001b[39;00mresponse\u001b[39m.\u001b[39mrequest\u001b[39m.\u001b[39murl\u001b[39m}\u001b[39;00m\u001b[39m: \u001b[39m\u001b[39m{\u001b[39;00merror_message\u001b[39m}\u001b[39;00m\u001b[39m\"\u001b[39m\n\u001b[0;32m-> 4457\u001b[0m \u001b[39mraise\u001b[39;00m exceptions\u001b[39m.\u001b[39mfrom_http_status(response\u001b[39m.\u001b[39mstatus_code, message, response\u001b[39m=\u001b[39mresponse)\n",
      "\u001b[0;31mForbidden\u001b[0m: 403 GET https://storage.googleapis.com/download/storage/v1/b/chouwal/o/..%2Fdata%2F2022_oct_chouwal.csv?alt=media: bastien-giudicelli@woven-solution-365114.iam.gserviceaccount.com does not have storage.objects.get access to the Google Cloud Storage object. Permission &#39;storage.objects.get&#39; denied on resource (or it may not exist).: ('Request failed with status code', 403, 'Expected one of', <HTTPStatus.OK: 200>, <HTTPStatus.PARTIAL_CONTENT: 206>)"
     ]
    }
   ],
   "source": [
    "from google.cloud import storage\n",
    "BUCKET_NAME = \"chouwal\"\n",
    "storage_filename = \"../data/2022_oct_chouwal.csv\"\n",
    "local_filename = \"../data/2022_oct_chouwal.csv\"\n",
    "client = storage.Client()\n",
    "bucket = client.bucket(BUCKET_NAME)\n",
    "blob = bucket.blob(storage_filename)\n",
    "blob.download_to_filename(local_filename)"
   ]
  },
  {
   "cell_type": "markdown",
   "metadata": {},
   "source": [
    "# Save to bucket "
   ]
  },
  {
   "cell_type": "code",
   "execution_count": 6,
   "metadata": {},
   "outputs": [
    {
     "ename": "FileNotFoundError",
     "evalue": "[Errno 2] No such file or directory: 'cheval_20223011.csv'",
     "output_type": "error",
     "traceback": [
      "\u001b[0;31m---------------------------------------------------------------------------\u001b[0m",
      "\u001b[0;31mFileNotFoundError\u001b[0m                         Traceback (most recent call last)",
      "Cell \u001b[0;32mIn [6], line 7\u001b[0m\n\u001b[1;32m      5\u001b[0m bucket \u001b[39m=\u001b[39m client\u001b[39m.\u001b[39mbucket(BUCKET_NAME)\n\u001b[1;32m      6\u001b[0m blob \u001b[39m=\u001b[39m bucket\u001b[39m.\u001b[39mblob(storage_filename)\n\u001b[0;32m----> 7\u001b[0m blob\u001b[39m.\u001b[39mupload_from_filename(local_filename)\n",
      "File \u001b[0;32m~/.pyenv/versions/lewagon/lib/python3.10/site-packages/google/cloud/storage/blob.py:2706\u001b[0m, in \u001b[0;36mBlob.upload_from_filename\u001b[0;34m(self, filename, content_type, num_retries, client, predefined_acl, if_generation_match, if_generation_not_match, if_metageneration_match, if_metageneration_not_match, timeout, checksum, retry)\u001b[0m\n\u001b[1;32m   2601\u001b[0m \u001b[39m\"\"\"Upload this blob's contents from the content of a named file.\u001b[39;00m\n\u001b[1;32m   2602\u001b[0m \n\u001b[1;32m   2603\u001b[0m \u001b[39mThe content type of the upload will be determined in order\u001b[39;00m\n\u001b[0;32m   (...)\u001b[0m\n\u001b[1;32m   2702\u001b[0m \u001b[39m    are respected.\u001b[39;00m\n\u001b[1;32m   2703\u001b[0m \u001b[39m\"\"\"\u001b[39;00m\n\u001b[1;32m   2704\u001b[0m content_type \u001b[39m=\u001b[39m \u001b[39mself\u001b[39m\u001b[39m.\u001b[39m_get_content_type(content_type, filename\u001b[39m=\u001b[39mfilename)\n\u001b[0;32m-> 2706\u001b[0m \u001b[39mwith\u001b[39;00m \u001b[39mopen\u001b[39;49m(filename, \u001b[39m\"\u001b[39;49m\u001b[39mrb\u001b[39;49m\u001b[39m\"\u001b[39;49m) \u001b[39mas\u001b[39;00m file_obj:\n\u001b[1;32m   2707\u001b[0m     total_bytes \u001b[39m=\u001b[39m os\u001b[39m.\u001b[39mfstat(file_obj\u001b[39m.\u001b[39mfileno())\u001b[39m.\u001b[39mst_size\n\u001b[1;32m   2708\u001b[0m     \u001b[39mself\u001b[39m\u001b[39m.\u001b[39mupload_from_file(\n\u001b[1;32m   2709\u001b[0m         file_obj,\n\u001b[1;32m   2710\u001b[0m         content_type\u001b[39m=\u001b[39mcontent_type,\n\u001b[0;32m   (...)\u001b[0m\n\u001b[1;32m   2721\u001b[0m         retry\u001b[39m=\u001b[39mretry,\n\u001b[1;32m   2722\u001b[0m     )\n",
      "\u001b[0;31mFileNotFoundError\u001b[0m: [Errno 2] No such file or directory: 'cheval_20223011.csv'"
     ]
    }
   ],
   "source": [
    "storage_filename = \"../data/2022_oct_chouwal.csv\"\n",
    "local_filename = \"../data/2022_oct_chouwal.csv\"\n",
    "\n",
    "client = storage.Client()\n",
    "bucket = client.bucket(BUCKET_NAME)\n",
    "blob = bucket.blob(storage_filename)\n",
    "blob.upload_from_filename(local_filename)"
   ]
  },
  {
   "cell_type": "code",
   "execution_count": null,
   "metadata": {},
   "outputs": [],
   "source": [
    "woven-solution-365114-94c6f854d3d7\n",
    "woven-solution-365114-94c6f854d3d7"
   ]
  }
 ],
 "metadata": {
  "kernelspec": {
   "display_name": "Python 3.10.6 64-bit ('shims')",
   "language": "python",
   "name": "python3"
  },
  "language_info": {
   "codemirror_mode": {
    "name": "ipython",
    "version": 3
   },
   "file_extension": ".py",
   "mimetype": "text/x-python",
   "name": "python",
   "nbconvert_exporter": "python",
   "pygments_lexer": "ipython3",
   "version": "3.10.6"
  },
  "orig_nbformat": 4,
  "vscode": {
   "interpreter": {
    "hash": "2148ce9662abacded161112207ad5169ff44f76e0031cb0fe999658c29ce24d0"
   }
  }
 },
 "nbformat": 4,
 "nbformat_minor": 2
}
